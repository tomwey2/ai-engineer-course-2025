{
 "cells": [
  {
   "cell_type": "code",
   "execution_count": 1,
   "id": "59a95976-7fb1-49f3-abd5-795b800ea448",
   "metadata": {},
   "outputs": [],
   "source": [
    "from mistralai import Mistral\n",
    "import os"
   ]
  },
  {
   "cell_type": "code",
   "execution_count": 2,
   "id": "b6e73c70-f55a-4442-a7fc-2fc308edf7ae",
   "metadata": {},
   "outputs": [],
   "source": [
    "api_key = os.environ[\"MISTRAL_API_KEY\"]\n",
    "model = \"mistral-small-latest\""
   ]
  },
  {
   "cell_type": "code",
   "execution_count": 3,
   "id": "7e9b4293-29d9-458d-8e31-12c667d2d516",
   "metadata": {},
   "outputs": [],
   "source": [
    "client = Mistral(api_key=api_key)"
   ]
  },
  {
   "cell_type": "code",
   "execution_count": 4,
   "id": "1245f41c-68e4-4305-9ff9-de132196bc9a",
   "metadata": {},
   "outputs": [
    {
     "name": "stdout",
     "output_type": "stream",
     "text": [
      "Choosing the \"best\" French cheese can be quite subjective, as it depends on personal taste preferences. France is renowned for its diverse and high-quality cheeses, with over 400 varieties. Here are a few highly regarded ones across different categories:\n",
      "\n",
      "1. **Soft Cheeses**:\n",
      "   - **Camembert de Normandie**: Known for its creamy texture and rich flavor.\n",
      "   - **Brie de Meaux**: A classic soft cheese with a buttery taste and creamy center.\n",
      "\n",
      "2. **Semi-Soft Cheeses**:\n",
      "   - **Morbier**: A unique cheese with a layer of ash in the middle, offering a complex flavor profile.\n",
      "   - **Reblochon**: Known for its nutty and fruity flavors, often used in dishes like tartiflette.\n",
      "\n",
      "3. **Hard Cheeses**:\n",
      "   - **Comté**: A nutty and slightly sweet cheese, often aged for several months to a few years.\n",
      "   - **Beaufort**: Similar to Gruyère, with a rich, nutty flavor and firm texture.\n",
      "\n",
      "4. **Blue Cheeses**:\n",
      "   - **Roquefort**: One of the oldest known cheeses, with a strong, tangy flavor.\n",
      "   - **Bleu d'Auvergne**: A milder blue cheese with a creamy texture.\n",
      "\n",
      "5. **Goat Cheeses**:\n",
      "   - **Chèvre**: Available in various forms, from fresh and tangy to aged and crumbly.\n",
      "   - **Sainte-Maure de Touraine**: A cylindrical goat cheese with a distinctive flavor.\n",
      "\n",
      "Each of these cheeses has its own unique characteristics, and the \"best\" one will depend on whether you prefer soft, hard, blue, or goat cheeses, as well as your personal taste in terms of flavor and texture.\n"
     ]
    }
   ],
   "source": [
    "chat_response = client.chat.complete(\n",
    "    model= model,\n",
    "    messages = [\n",
    "        {\n",
    "            \"role\": \"user\",\n",
    "            \"content\": \"What is the best French cheese?\",\n",
    "        },\n",
    "    ]\n",
    ")\n",
    "print(chat_response.choices[0].message.content)"
   ]
  },
  {
   "cell_type": "code",
   "execution_count": null,
   "id": "ffa572d4-0f92-4807-a304-136b99c8a30c",
   "metadata": {},
   "outputs": [],
   "source": []
  }
 ],
 "metadata": {
  "kernelspec": {
   "display_name": "Python [conda env:nlp]",
   "language": "python",
   "name": "conda-env-nlp-py"
  },
  "language_info": {
   "codemirror_mode": {
    "name": "ipython",
    "version": 3
   },
   "file_extension": ".py",
   "mimetype": "text/x-python",
   "name": "python",
   "nbconvert_exporter": "python",
   "pygments_lexer": "ipython3",
   "version": "3.13.2"
  }
 },
 "nbformat": 4,
 "nbformat_minor": 5
}
