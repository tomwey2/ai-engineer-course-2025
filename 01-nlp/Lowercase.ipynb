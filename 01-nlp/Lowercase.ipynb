{
 "cells": [
  {
   "cell_type": "markdown",
   "id": "caaf2140-c665-40f9-9432-9aa2cafcbeb5",
   "metadata": {},
   "source": [
    "## Lowercase\n",
    "An important first step in working with text data is simply converting it into lowercase."
   ]
  },
  {
   "cell_type": "code",
   "execution_count": 15,
   "id": "158dfae1-9893-4eaa-809c-dbb58251329d",
   "metadata": {},
   "outputs": [
    {
     "name": "stdout",
     "output_type": "stream",
     "text": [
      "Her cat's name is Luna\n"
     ]
    }
   ],
   "source": [
    "sentence = \"Her cat's name is Luna\"\n",
    "print(sentence)"
   ]
  },
  {
   "cell_type": "code",
   "execution_count": 16,
   "id": "62b09955-064b-439e-9c7e-dcf7eaf776f6",
   "metadata": {},
   "outputs": [
    {
     "name": "stdout",
     "output_type": "stream",
     "text": [
      "her cat's name is luna\n"
     ]
    }
   ],
   "source": [
    "lower_sentence = sentence.lower()\n",
    "print(lower_sentence)"
   ]
  },
  {
   "cell_type": "code",
   "execution_count": 6,
   "id": "8195d38f-f0f4-4ec1-997a-03bcd4964cdd",
   "metadata": {},
   "outputs": [],
   "source": [
    "sentence_list = [\"Could you pass me the TV remote?\",\n",
    "                 \"It is IMPOSSIBLE to find this hotel\",\n",
    "                 \"Want to go for dinner on Tuesday?\"]"
   ]
  },
  {
   "cell_type": "code",
   "execution_count": 8,
   "id": "ffa7dee5-2ce7-45b5-ba3c-11f23626d5f6",
   "metadata": {},
   "outputs": [
    {
     "name": "stdout",
     "output_type": "stream",
     "text": [
      "['could you pass me the tv remote?', 'it is impossible to find this hotel', 'want to go for dinner on tuesday?']\n"
     ]
    }
   ],
   "source": [
    "lower_sentence_list = [x.lower() for x in sentence_list]\n",
    "print(lower_sentence_list)"
   ]
  },
  {
   "cell_type": "code",
   "execution_count": null,
   "id": "a3302663-ec46-46ad-8c0f-dc70333ab0ab",
   "metadata": {},
   "outputs": [],
   "source": []
  }
 ],
 "metadata": {
  "kernelspec": {
   "display_name": "Python 3 (ipykernel)",
   "language": "python",
   "name": "python3"
  },
  "language_info": {
   "codemirror_mode": {
    "name": "ipython",
    "version": 3
   },
   "file_extension": ".py",
   "mimetype": "text/x-python",
   "name": "python",
   "nbconvert_exporter": "python",
   "pygments_lexer": "ipython3",
   "version": "3.11.4"
  }
 },
 "nbformat": 4,
 "nbformat_minor": 5
}
