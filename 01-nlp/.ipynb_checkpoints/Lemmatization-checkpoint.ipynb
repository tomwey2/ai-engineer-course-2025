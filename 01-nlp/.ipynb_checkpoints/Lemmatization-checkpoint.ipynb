{
 "cells": [
  {
   "cell_type": "markdown",
   "id": "b9503368-bd76-4c8a-b725-8f01833f60b7",
   "metadata": {},
   "source": [
    "## Lemmatization\n",
    "Where stemming removes the last few characters of a word, lemmatization stems the word to a more meaningful base form and ensures it does not lose it's meaning."
   ]
  },
  {
   "cell_type": "code",
   "execution_count": 3,
   "id": "1af00e39-1340-4cdc-99f1-4951689cdc00",
   "metadata": {},
   "outputs": [
    {
     "name": "stderr",
     "output_type": "stream",
     "text": [
      "[nltk_data] Downloading package wordnet to /home/tom/nltk_data...\n"
     ]
    }
   ],
   "source": [
    "import nltk\n",
    "nltk.download(\"wordnet\")\n",
    "from nltk.stem import WordNetLemmatizer"
   ]
  },
  {
   "cell_type": "code",
   "execution_count": 1,
   "id": "5b978ef2-e96f-471e-93ce-2528bfb6339e",
   "metadata": {},
   "outputs": [],
   "source": [
    "connect_tokens = [\"connecting\", \"connected\", \"connectivity\", \"connect\", \"connects\"]"
   ]
  },
  {
   "cell_type": "code",
   "execution_count": 2,
   "id": "a259dcdb-839b-4e97-8e47-ad8f9beb3fed",
   "metadata": {},
   "outputs": [],
   "source": [
    "learn_tokens = [\"learned\", \"learning\", \"learn\", \"learns\", \"learner\", \"learners\"]"
   ]
  },
  {
   "cell_type": "code",
   "execution_count": 4,
   "id": "c4a33c02-88f4-48b4-b416-d7d1b60ef8a5",
   "metadata": {},
   "outputs": [],
   "source": [
    "lemmatizer = WordNetLemmatizer()"
   ]
  },
  {
   "cell_type": "code",
   "execution_count": 5,
   "id": "902b11b0-ca59-4bb1-aa69-e037f451496b",
   "metadata": {},
   "outputs": [
    {
     "name": "stdout",
     "output_type": "stream",
     "text": [
      "connecting  :  connecting\n",
      "connected  :  connected\n",
      "connectivity  :  connectivity\n",
      "connect  :  connect\n",
      "connects  :  connects\n"
     ]
    }
   ],
   "source": [
    "for t in connect_tokens:\n",
    "    print(t, \" : \", lemmatizer.lemmatize(t))"
   ]
  },
  {
   "cell_type": "code",
   "execution_count": 6,
   "id": "97ea8b03-96d6-49c8-b5a1-a424eb399d15",
   "metadata": {},
   "outputs": [
    {
     "name": "stdout",
     "output_type": "stream",
     "text": [
      "learned  :  learned\n",
      "learning  :  learning\n",
      "learn  :  learn\n",
      "learns  :  learns\n",
      "learner  :  learner\n",
      "learners  :  learner\n"
     ]
    }
   ],
   "source": [
    "for t in learn_tokens:\n",
    "    print(t, \" : \", lemmatizer.lemmatize(t))"
   ]
  },
  {
   "cell_type": "code",
   "execution_count": null,
   "id": "5a6765cd-e4c6-4e2c-94b4-f09a101e9fd1",
   "metadata": {},
   "outputs": [],
   "source": []
  }
 ],
 "metadata": {
  "kernelspec": {
   "display_name": "Python [conda env:nlp]",
   "language": "python",
   "name": "conda-env-nlp-py"
  },
  "language_info": {
   "codemirror_mode": {
    "name": "ipython",
    "version": 3
   },
   "file_extension": ".py",
   "mimetype": "text/x-python",
   "name": "python",
   "nbconvert_exporter": "python",
   "pygments_lexer": "ipython3",
   "version": "3.13.2"
  }
 },
 "nbformat": 4,
 "nbformat_minor": 5
}
