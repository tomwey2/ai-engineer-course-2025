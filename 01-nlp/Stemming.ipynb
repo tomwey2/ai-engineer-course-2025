{
 "cells": [
  {
   "cell_type": "markdown",
   "id": "51cd0916-6754-4dab-9770-0937bf284f20",
   "metadata": {},
   "source": [
    "## Stemming\n",
    "Stemming reduces words to their base form. For example, word like \"connecting\" or \"connected\" will be stemmed to the base form \"connect\". This can be used to standardize the text in order to lower the number of unique words in the dataset."
   ]
  },
  {
   "cell_type": "code",
   "execution_count": 1,
   "id": "8a72a223-19a5-4d60-a90b-6b4b1fb65b2d",
   "metadata": {},
   "outputs": [],
   "source": [
    "from nltk.stem import PorterStemmer"
   ]
  },
  {
   "cell_type": "code",
   "execution_count": 2,
   "id": "1e135ddd-c9f7-41ad-8df9-301bccb720a7",
   "metadata": {},
   "outputs": [],
   "source": [
    "ps = PorterStemmer()"
   ]
  },
  {
   "cell_type": "code",
   "execution_count": 3,
   "id": "df8cffc0-b0c8-4d94-85ce-4821c4b86ee0",
   "metadata": {},
   "outputs": [],
   "source": [
    "connect_tokens = [\"connecting\", \"connected\", \"connectivity\", \"connect\", \"connects\"]"
   ]
  },
  {
   "cell_type": "code",
   "execution_count": 4,
   "id": "c5b27ff9-4bb6-46d4-829e-bc23140b8f48",
   "metadata": {},
   "outputs": [
    {
     "name": "stdout",
     "output_type": "stream",
     "text": [
      "connecting  :  connect\n",
      "connected  :  connect\n",
      "connectivity  :  connect\n",
      "connect  :  connect\n",
      "connects  :  connect\n"
     ]
    }
   ],
   "source": [
    "for t in connect_tokens:\n",
    "    print(t, \" : \", ps.stem(t))"
   ]
  },
  {
   "cell_type": "code",
   "execution_count": 5,
   "id": "e0485218-f283-451c-89c8-1a07e71257a0",
   "metadata": {},
   "outputs": [],
   "source": [
    "learn_tokens = [\"learned\", \"learning\", \"learn\", \"learns\", \"learner\", \"learners\"]"
   ]
  },
  {
   "cell_type": "code",
   "execution_count": 6,
   "id": "c094a842-594e-46f9-a595-193ebedc596a",
   "metadata": {},
   "outputs": [
    {
     "name": "stdout",
     "output_type": "stream",
     "text": [
      "learned  :  learn\n",
      "learning  :  learn\n",
      "learn  :  learn\n",
      "learns  :  learn\n",
      "learner  :  learner\n",
      "learners  :  learner\n"
     ]
    }
   ],
   "source": [
    "for t in learn_tokens:\n",
    "    print(t, \" : \", ps.stem(t))"
   ]
  },
  {
   "cell_type": "code",
   "execution_count": null,
   "id": "f6e11581-b708-4285-9a86-2e50469ee933",
   "metadata": {},
   "outputs": [],
   "source": []
  }
 ],
 "metadata": {
  "kernelspec": {
   "display_name": "Python [conda env:nlp]",
   "language": "python",
   "name": "conda-env-nlp-py"
  },
  "language_info": {
   "codemirror_mode": {
    "name": "ipython",
    "version": 3
   },
   "file_extension": ".py",
   "mimetype": "text/x-python",
   "name": "python",
   "nbconvert_exporter": "python",
   "pygments_lexer": "ipython3",
   "version": "3.13.2"
  }
 },
 "nbformat": 4,
 "nbformat_minor": 5
}
